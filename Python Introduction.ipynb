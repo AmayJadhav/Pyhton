{
 "cells": [
  {
   "cell_type": "markdown",
   "id": "03fa4c34-fa7d-4ae6-946b-586da6a83487",
   "metadata": {},
   "source": [
    "Pyhton Introduction :\n",
    "\n",
    "What is Pyhton ?\n",
    "-> Python is a high- level,  programming language known for its simplicity and readability.\n",
    "->It was created by Gudo van Rossum and first released in 1991. \n",
    "->Pyhton is widely used for Web Development, Data Analysis, Artificial Intelligence, scientific computing, Automation, and More.\n",
    "--------------------------------------------------------------------------------------------------------------------------------------------------------\n",
    " What can Pyhton do ?\n",
    "Python is powerful programming language that can do many things, such as :\n",
    "1.Web Development : Build websites and web apps.\n",
    "2.Data Analysis: Analyze data and create visualization.\n",
    "3.Automation: Automate repetitive tasks. \n",
    "4.Software Development: Create desktop application and games.\n",
    "5.AI AND Machine learning: Develop artificial intelligence and machine learning models.\n",
    "6.IoT: Control devices and sensors to solve problems quickly.\n",
    "It’s widely used because it’s easy to learn and very versatile.\n",
    "--------------------------------------------------------------------------------------------------------------------------------------------------------\n",
    "Why Pyhton?\n",
    "1.Easy to Learn : its Simple syntax makes it beginner-friendly.\n",
    "2.Versatile: You can use it for wed development, Data analysis, AI and more.\n",
    "3.Lots of Resources: There,s a huge Community and many Libraries to help with projects.\n",
    "4.Platform: It Works on Windows, macOS (Apple), Linux (Open Source) .\n",
    "-------------------------------------------------------------------------------------------------------------------------------------------------------\n",
    "Pyhton Syntax Compared to other Programming Languages .\n",
    "-> Pyhton Was designs  for readability ,  and has some similarities to the English language with influence from mathematics.\n",
    "-> Python uses new lines to complete a command , as opposed to other programming languages which often use semicolons or parentheses.\n",
    "->Pyhton relies on indentation, using white-space, to define scope; such as the scope of loops, functions and classes. Other programming languages often use curly-brackets for this purpose."
   ]
  },
  {
   "cell_type": "code",
   "execution_count": null,
   "id": "50a35361-bdfc-430e-a254-5d259357ccd9",
   "metadata": {},
   "outputs": [],
   "source": [
    "print(\"Hello Guy's\")"
   ]
  },
  {
   "cell_type": "raw",
   "id": "a2f5a02b-b9db-49af-8b3d-2dc188aca5c1",
   "metadata": {},
   "source": [
    "Output : Hello Guy's"
   ]
  }
 ],
 "metadata": {
  "kernelspec": {
   "display_name": "Python 3 (ipykernel)",
   "language": "python",
   "name": "python3"
  },
  "language_info": {
   "codemirror_mode": {
    "name": "ipython",
    "version": 3
   },
   "file_extension": ".py",
   "mimetype": "text/x-python",
   "name": "python",
   "nbconvert_exporter": "python",
   "pygments_lexer": "ipython3",
   "version": "3.12.4"
  }
 },
 "nbformat": 4,
 "nbformat_minor": 5
}
